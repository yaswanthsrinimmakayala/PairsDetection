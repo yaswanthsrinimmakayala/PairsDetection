{
 "cells": [
  {
   "cell_type": "code",
   "execution_count": null,
   "id": "G-3wFQ6rC9aC",
   "metadata": {
    "colab": {
     "base_uri": "https://localhost:8080/"
    },
    "executionInfo": {
     "elapsed": 44410,
     "status": "ok",
     "timestamp": 1649570263606,
     "user": {
      "displayName": "ABHISHEK NN 20BCE1025",
      "userId": "01271120873690564115"
     },
     "user_tz": -330
    },
    "id": "G-3wFQ6rC9aC",
    "outputId": "926f6134-b083-40de-f173-03f939432433"
   },
   "outputs": [
    {
     "name": "stdout",
     "output_type": "stream",
     "text": [
      "Mounted at /content/drive\n"
     ]
    }
   ],
   "source": [
    "from google.colab import drive\n",
    "drive.mount('/content/drive')"
   ]
  },
  {
   "cell_type": "code",
   "execution_count": null,
   "id": "zmASj7_QDaNY",
   "metadata": {
    "id": "zmASj7_QDaNY"
   },
   "outputs": [],
   "source": [
    "!cp \"/content/drive/My Drive/4th_SEM/CSE4020_PROJECT_Machine_Learning/train.csv\" train.csv"
   ]
  },
  {
   "cell_type": "code",
   "execution_count": null,
   "id": "600ccbe8",
   "metadata": {
    "id": "600ccbe8"
   },
   "outputs": [],
   "source": [
    "import numpy as np\n",
    "import pandas as pd\n",
    "import seaborn as sns\n",
    "import matplotlib.pyplot as plt"
   ]
  },
  {
   "cell_type": "code",
   "execution_count": null,
   "id": "60425156",
   "metadata": {
    "colab": {
     "base_uri": "https://localhost:8080/"
    },
    "executionInfo": {
     "elapsed": 1647,
     "status": "ok",
     "timestamp": 1649570530177,
     "user": {
      "displayName": "ABHISHEK NN 20BCE1025",
      "userId": "01271120873690564115"
     },
     "user_tz": -330
    },
    "id": "60425156",
    "outputId": "adf021da-c25a-412c-bfa3-e7564b713895"
   },
   "outputs": [
    {
     "data": {
      "text/plain": [
       "(404290, 6)"
      ]
     },
     "execution_count": 6,
     "metadata": {},
     "output_type": "execute_result"
    }
   ],
   "source": [
    "df = pd.read_csv(\"train.csv\")\n",
    "df.shape"
   ]
  },
  {
   "cell_type": "code",
   "execution_count": null,
   "id": "5a3d86b9",
   "metadata": {
    "colab": {
     "base_uri": "https://localhost:8080/",
     "height": 737
    },
    "executionInfo": {
     "elapsed": 9,
     "status": "ok",
     "timestamp": 1649570531816,
     "user": {
      "displayName": "ABHISHEK NN 20BCE1025",
      "userId": "01271120873690564115"
     },
     "user_tz": -330
    },
    "id": "5a3d86b9",
    "outputId": "a60434ce-2eb0-4838-c956-266bfc5052b0"
   },
   "outputs": [
    {
     "data": {
      "text/html": [
       "\n",
       "  <div id=\"df-199f4c90-0705-4ce3-b82e-a861b2590f56\">\n",
       "    <div class=\"colab-df-container\">\n",
       "      <div>\n",
       "<style scoped>\n",
       "    .dataframe tbody tr th:only-of-type {\n",
       "        vertical-align: middle;\n",
       "    }\n",
       "\n",
       "    .dataframe tbody tr th {\n",
       "        vertical-align: top;\n",
       "    }\n",
       "\n",
       "    .dataframe thead th {\n",
       "        text-align: right;\n",
       "    }\n",
       "</style>\n",
       "<table border=\"1\" class=\"dataframe\">\n",
       "  <thead>\n",
       "    <tr style=\"text-align: right;\">\n",
       "      <th></th>\n",
       "      <th>id</th>\n",
       "      <th>qid1</th>\n",
       "      <th>qid2</th>\n",
       "      <th>question1</th>\n",
       "      <th>question2</th>\n",
       "      <th>is_duplicate</th>\n",
       "    </tr>\n",
       "  </thead>\n",
       "  <tbody>\n",
       "    <tr>\n",
       "      <th>221668</th>\n",
       "      <td>221668</td>\n",
       "      <td>329070</td>\n",
       "      <td>237417</td>\n",
       "      <td>Who is girl Priyanka in MS Dhoni 'The Untold S...</td>\n",
       "      <td>What are the best scene that you like in movie...</td>\n",
       "      <td>0</td>\n",
       "    </tr>\n",
       "    <tr>\n",
       "      <th>200893</th>\n",
       "      <td>200893</td>\n",
       "      <td>302782</td>\n",
       "      <td>302783</td>\n",
       "      <td>I'm an experienced programmer considering quit...</td>\n",
       "      <td>Which are the best companies to work with in G...</td>\n",
       "      <td>0</td>\n",
       "    </tr>\n",
       "    <tr>\n",
       "      <th>59600</th>\n",
       "      <td>59600</td>\n",
       "      <td>104357</td>\n",
       "      <td>104358</td>\n",
       "      <td>How many countries' people are on Quora right ...</td>\n",
       "      <td>How many people are on Quora right now?</td>\n",
       "      <td>0</td>\n",
       "    </tr>\n",
       "    <tr>\n",
       "      <th>251062</th>\n",
       "      <td>251062</td>\n",
       "      <td>365087</td>\n",
       "      <td>365088</td>\n",
       "      <td>According to Vedic astrology, what type of pro...</td>\n",
       "      <td>What are some ways to prove you love someone?</td>\n",
       "      <td>0</td>\n",
       "    </tr>\n",
       "    <tr>\n",
       "      <th>303231</th>\n",
       "      <td>303231</td>\n",
       "      <td>65149</td>\n",
       "      <td>426340</td>\n",
       "      <td>What is the beauty standard for men and women ...</td>\n",
       "      <td>Why do foreign men likes less attractive Asian...</td>\n",
       "      <td>0</td>\n",
       "    </tr>\n",
       "    <tr>\n",
       "      <th>239300</th>\n",
       "      <td>239300</td>\n",
       "      <td>103347</td>\n",
       "      <td>9747</td>\n",
       "      <td>Can I start a sentence with ‘so’?</td>\n",
       "      <td>Can you start a sentence with \"it\"?</td>\n",
       "      <td>0</td>\n",
       "    </tr>\n",
       "    <tr>\n",
       "      <th>295802</th>\n",
       "      <td>295802</td>\n",
       "      <td>95817</td>\n",
       "      <td>417902</td>\n",
       "      <td>What are the hardest Hindi films to charade wh...</td>\n",
       "      <td>Which Hindi film had the best bloopers?</td>\n",
       "      <td>0</td>\n",
       "    </tr>\n",
       "    <tr>\n",
       "      <th>362001</th>\n",
       "      <td>362001</td>\n",
       "      <td>169245</td>\n",
       "      <td>20868</td>\n",
       "      <td>What we want to do to avoid pimples?</td>\n",
       "      <td>How can I get rid of my acne?</td>\n",
       "      <td>0</td>\n",
       "    </tr>\n",
       "    <tr>\n",
       "      <th>263431</th>\n",
       "      <td>263431</td>\n",
       "      <td>379977</td>\n",
       "      <td>100038</td>\n",
       "      <td>How accurate are Nostradamus's predictions?</td>\n",
       "      <td>How did Nostradamus make so many accurate pred...</td>\n",
       "      <td>0</td>\n",
       "    </tr>\n",
       "    <tr>\n",
       "      <th>96766</th>\n",
       "      <td>96766</td>\n",
       "      <td>161133</td>\n",
       "      <td>57938</td>\n",
       "      <td>Where do swear words originate from?</td>\n",
       "      <td>Where did cuss words come from?</td>\n",
       "      <td>1</td>\n",
       "    </tr>\n",
       "  </tbody>\n",
       "</table>\n",
       "</div>\n",
       "      <button class=\"colab-df-convert\" onclick=\"convertToInteractive('df-199f4c90-0705-4ce3-b82e-a861b2590f56')\"\n",
       "              title=\"Convert this dataframe to an interactive table.\"\n",
       "              style=\"display:none;\">\n",
       "        \n",
       "  <svg xmlns=\"http://www.w3.org/2000/svg\" height=\"24px\"viewBox=\"0 0 24 24\"\n",
       "       width=\"24px\">\n",
       "    <path d=\"M0 0h24v24H0V0z\" fill=\"none\"/>\n",
       "    <path d=\"M18.56 5.44l.94 2.06.94-2.06 2.06-.94-2.06-.94-.94-2.06-.94 2.06-2.06.94zm-11 1L8.5 8.5l.94-2.06 2.06-.94-2.06-.94L8.5 2.5l-.94 2.06-2.06.94zm10 10l.94 2.06.94-2.06 2.06-.94-2.06-.94-.94-2.06-.94 2.06-2.06.94z\"/><path d=\"M17.41 7.96l-1.37-1.37c-.4-.4-.92-.59-1.43-.59-.52 0-1.04.2-1.43.59L10.3 9.45l-7.72 7.72c-.78.78-.78 2.05 0 2.83L4 21.41c.39.39.9.59 1.41.59.51 0 1.02-.2 1.41-.59l7.78-7.78 2.81-2.81c.8-.78.8-2.07 0-2.86zM5.41 20L4 18.59l7.72-7.72 1.47 1.35L5.41 20z\"/>\n",
       "  </svg>\n",
       "      </button>\n",
       "      \n",
       "  <style>\n",
       "    .colab-df-container {\n",
       "      display:flex;\n",
       "      flex-wrap:wrap;\n",
       "      gap: 12px;\n",
       "    }\n",
       "\n",
       "    .colab-df-convert {\n",
       "      background-color: #E8F0FE;\n",
       "      border: none;\n",
       "      border-radius: 50%;\n",
       "      cursor: pointer;\n",
       "      display: none;\n",
       "      fill: #1967D2;\n",
       "      height: 32px;\n",
       "      padding: 0 0 0 0;\n",
       "      width: 32px;\n",
       "    }\n",
       "\n",
       "    .colab-df-convert:hover {\n",
       "      background-color: #E2EBFA;\n",
       "      box-shadow: 0px 1px 2px rgba(60, 64, 67, 0.3), 0px 1px 3px 1px rgba(60, 64, 67, 0.15);\n",
       "      fill: #174EA6;\n",
       "    }\n",
       "\n",
       "    [theme=dark] .colab-df-convert {\n",
       "      background-color: #3B4455;\n",
       "      fill: #D2E3FC;\n",
       "    }\n",
       "\n",
       "    [theme=dark] .colab-df-convert:hover {\n",
       "      background-color: #434B5C;\n",
       "      box-shadow: 0px 1px 3px 1px rgba(0, 0, 0, 0.15);\n",
       "      filter: drop-shadow(0px 1px 2px rgba(0, 0, 0, 0.3));\n",
       "      fill: #FFFFFF;\n",
       "    }\n",
       "  </style>\n",
       "\n",
       "      <script>\n",
       "        const buttonEl =\n",
       "          document.querySelector('#df-199f4c90-0705-4ce3-b82e-a861b2590f56 button.colab-df-convert');\n",
       "        buttonEl.style.display =\n",
       "          google.colab.kernel.accessAllowed ? 'block' : 'none';\n",
       "\n",
       "        async function convertToInteractive(key) {\n",
       "          const element = document.querySelector('#df-199f4c90-0705-4ce3-b82e-a861b2590f56');\n",
       "          const dataTable =\n",
       "            await google.colab.kernel.invokeFunction('convertToInteractive',\n",
       "                                                     [key], {});\n",
       "          if (!dataTable) return;\n",
       "\n",
       "          const docLinkHtml = 'Like what you see? Visit the ' +\n",
       "            '<a target=\"_blank\" href=https://colab.research.google.com/notebooks/data_table.ipynb>data table notebook</a>'\n",
       "            + ' to learn more about interactive tables.';\n",
       "          element.innerHTML = '';\n",
       "          dataTable['output_type'] = 'display_data';\n",
       "          await google.colab.output.renderOutput(dataTable, element);\n",
       "          const docLink = document.createElement('div');\n",
       "          docLink.innerHTML = docLinkHtml;\n",
       "          element.appendChild(docLink);\n",
       "        }\n",
       "      </script>\n",
       "    </div>\n",
       "  </div>\n",
       "  "
      ],
      "text/plain": [
       "            id    qid1    qid2  \\\n",
       "221668  221668  329070  237417   \n",
       "200893  200893  302782  302783   \n",
       "59600    59600  104357  104358   \n",
       "251062  251062  365087  365088   \n",
       "303231  303231   65149  426340   \n",
       "239300  239300  103347    9747   \n",
       "295802  295802   95817  417902   \n",
       "362001  362001  169245   20868   \n",
       "263431  263431  379977  100038   \n",
       "96766    96766  161133   57938   \n",
       "\n",
       "                                                question1  \\\n",
       "221668  Who is girl Priyanka in MS Dhoni 'The Untold S...   \n",
       "200893  I'm an experienced programmer considering quit...   \n",
       "59600   How many countries' people are on Quora right ...   \n",
       "251062  According to Vedic astrology, what type of pro...   \n",
       "303231  What is the beauty standard for men and women ...   \n",
       "239300                  Can I start a sentence with ‘so’?   \n",
       "295802  What are the hardest Hindi films to charade wh...   \n",
       "362001               What we want to do to avoid pimples?   \n",
       "263431        How accurate are Nostradamus's predictions?   \n",
       "96766                Where do swear words originate from?   \n",
       "\n",
       "                                                question2  is_duplicate  \n",
       "221668  What are the best scene that you like in movie...             0  \n",
       "200893  Which are the best companies to work with in G...             0  \n",
       "59600             How many people are on Quora right now?             0  \n",
       "251062      What are some ways to prove you love someone?             0  \n",
       "303231  Why do foreign men likes less attractive Asian...             0  \n",
       "239300                Can you start a sentence with \"it\"?             0  \n",
       "295802            Which Hindi film had the best bloopers?             0  \n",
       "362001                      How can I get rid of my acne?             0  \n",
       "263431  How did Nostradamus make so many accurate pred...             0  \n",
       "96766                     Where did cuss words come from?             1  "
      ]
     },
     "execution_count": 7,
     "metadata": {},
     "output_type": "execute_result"
    }
   ],
   "source": [
    "df.sample(10)"
   ]
  },
  {
   "cell_type": "code",
   "execution_count": null,
   "id": "37b00141",
   "metadata": {
    "colab": {
     "base_uri": "https://localhost:8080/"
    },
    "executionInfo": {
     "elapsed": 713,
     "status": "ok",
     "timestamp": 1649570534368,
     "user": {
      "displayName": "ABHISHEK NN 20BCE1025",
      "userId": "01271120873690564115"
     },
     "user_tz": -330
    },
    "id": "37b00141",
    "outputId": "6a21dedc-97fd-484d-a4f1-5106292fafaf"
   },
   "outputs": [
    {
     "name": "stdout",
     "output_type": "stream",
     "text": [
      "<class 'pandas.core.frame.DataFrame'>\n",
      "RangeIndex: 404290 entries, 0 to 404289\n",
      "Data columns (total 6 columns):\n",
      " #   Column        Non-Null Count   Dtype \n",
      "---  ------        --------------   ----- \n",
      " 0   id            404290 non-null  int64 \n",
      " 1   qid1          404290 non-null  int64 \n",
      " 2   qid2          404290 non-null  int64 \n",
      " 3   question1     404289 non-null  object\n",
      " 4   question2     404288 non-null  object\n",
      " 5   is_duplicate  404290 non-null  int64 \n",
      "dtypes: int64(4), object(2)\n",
      "memory usage: 18.5+ MB\n"
     ]
    }
   ],
   "source": [
    "df.info()"
   ]
  },
  {
   "cell_type": "code",
   "execution_count": null,
   "id": "c5b82789",
   "metadata": {
    "colab": {
     "base_uri": "https://localhost:8080/"
    },
    "executionInfo": {
     "elapsed": 4,
     "status": "ok",
     "timestamp": 1649570536104,
     "user": {
      "displayName": "ABHISHEK NN 20BCE1025",
      "userId": "01271120873690564115"
     },
     "user_tz": -330
    },
    "id": "c5b82789",
    "outputId": "4abd7b78-803c-4ac7-b4e0-de8d41648082"
   },
   "outputs": [
    {
     "data": {
      "text/plain": [
       "id              0\n",
       "qid1            0\n",
       "qid2            0\n",
       "question1       1\n",
       "question2       2\n",
       "is_duplicate    0\n",
       "dtype: int64"
      ]
     },
     "execution_count": 9,
     "metadata": {},
     "output_type": "execute_result"
    }
   ],
   "source": [
    "# missing values\n",
    "df.isnull().sum()"
   ]
  },
  {
   "cell_type": "code",
   "execution_count": null,
   "id": "e704abaf",
   "metadata": {
    "colab": {
     "base_uri": "https://localhost:8080/"
    },
    "executionInfo": {
     "elapsed": 821,
     "status": "ok",
     "timestamp": 1649570538971,
     "user": {
      "displayName": "ABHISHEK NN 20BCE1025",
      "userId": "01271120873690564115"
     },
     "user_tz": -330
    },
    "id": "e704abaf",
    "outputId": "9cd6c84f-a4a4-43cc-da8b-5d4d55ad2a6d"
   },
   "outputs": [
    {
     "data": {
      "text/plain": [
       "0"
      ]
     },
     "execution_count": 10,
     "metadata": {},
     "output_type": "execute_result"
    }
   ],
   "source": [
    "# duplicate rows\n",
    "df.duplicated().sum()"
   ]
  },
  {
   "cell_type": "code",
   "execution_count": null,
   "id": "3f9bd6af",
   "metadata": {
    "colab": {
     "base_uri": "https://localhost:8080/",
     "height": 389
    },
    "executionInfo": {
     "elapsed": 9,
     "status": "ok",
     "timestamp": 1649570542048,
     "user": {
      "displayName": "ABHISHEK NN 20BCE1025",
      "userId": "01271120873690564115"
     },
     "user_tz": -330
    },
    "id": "3f9bd6af",
    "outputId": "f0550689-15bc-4c70-d6f6-cc3e7a021921"
   },
   "outputs": [
    {
     "name": "stdout",
     "output_type": "stream",
     "text": [
      "0    255027\n",
      "1    149263\n",
      "Name: is_duplicate, dtype: int64\n",
      "0    63.080215\n",
      "1    36.919785\n",
      "Name: is_duplicate, dtype: float64\n"
     ]
    },
    {
     "data": {
      "text/plain": [
       "<matplotlib.axes._subplots.AxesSubplot at 0x7f9333437110>"
      ]
     },
     "execution_count": 11,
     "metadata": {},
     "output_type": "execute_result"
    },
    {
     "data": {
      "image/png": "[encoded data removed]",
      "text/plain": [
       "<Figure size 432x288 with 1 Axes>"
      ]
     },
     "metadata": {
      "needs_background": "light"
     },
     "output_type": "display_data"
    }
   ],
   "source": [
    "# Distribution of duplicate and non-duplicate questions\n",
    "\n",
    "print(df['is_duplicate'].value_counts())\n",
    "print((df['is_duplicate'].value_counts()/df['is_duplicate'].count())*100)\n",
    "df['is_duplicate'].value_counts().plot(kind='bar')"
   ]
  },
  {
   "cell_type": "code",
   "execution_count": null,
   "id": "788d2d08",
   "metadata": {
    "colab": {
     "base_uri": "https://localhost:8080/"
    },
    "executionInfo": {
     "elapsed": 821,
     "status": "ok",
     "timestamp": 1649570545840,
     "user": {
      "displayName": "ABHISHEK NN 20BCE1025",
      "userId": "01271120873690564115"
     },
     "user_tz": -330
    },
    "id": "788d2d08",
    "outputId": "26f49d15-d0cc-4919-a423-6f75e3d7e4f2"
   },
   "outputs": [
    {
     "name": "stdout",
     "output_type": "stream",
     "text": [
      "Number of unique questions 537933\n",
      "Number of questions getting repeated 111780\n"
     ]
    }
   ],
   "source": [
    "# Repeated questions\n",
    "\n",
    "qid = pd.Series(df['qid1'].tolist() + df['qid2'].tolist())\n",
    "print('Number of unique questions',np.unique(qid).shape[0])\n",
    "x = qid.value_counts()>1\n",
    "print('Number of questions getting repeated',x[x].shape[0])"
   ]
  },
  {
   "cell_type": "code",
   "execution_count": null,
   "id": "2fa5bb83",
   "metadata": {
    "colab": {
     "base_uri": "https://localhost:8080/",
     "height": 265
    },
    "executionInfo": {
     "elapsed": 905,
     "status": "ok",
     "timestamp": 1649570548678,
     "user": {
      "displayName": "ABHISHEK NN 20BCE1025",
      "userId": "01271120873690564115"
     },
     "user_tz": -330
    },
    "id": "2fa5bb83",
    "outputId": "2421ab5b-6d3e-47d0-d4d8-ba2aeed25fb5"
   },
   "outputs": [
    {
     "data": {
      "image/png": "[encoded data removed]",
      "text/plain": [
       "<Figure size 432x288 with 1 Axes>"
      ]
     },
     "metadata": {
      "needs_background": "light"
     },
     "output_type": "display_data"
    }
   ],
   "source": [
    "# Repeated questions histogram\n",
    "\n",
    "plt.hist(qid.value_counts().values,bins=160)\n",
    "plt.yscale('log')\n",
    "plt.show()"
   ]
  }
 ],
 "metadata": {
  "colab": {
   "collapsed_sections": [],
   "name": "EDA.ipynb",
   "provenance": []
  },
  "kernelspec": {
   "display_name": "Python 3",
   "language": "python",
   "name": "python3"
  },
  "language_info": {
   "codemirror_mode": {
    "name": "ipython",
    "version": 3
   },
   "file_extension": ".py",
   "mimetype": "text/x-python",
   "name": "python",
   "nbconvert_exporter": "python",
   "pygments_lexer": "ipython3",
   "version": "3.8.8"
  }
 },
 "nbformat": 4,
 "nbformat_minor": 5
}
